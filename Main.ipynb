{
 "cells": [
  {
   "cell_type": "code",
   "execution_count": 77,
   "metadata": {},
   "outputs": [],
   "source": [
    "import numpy as np\n",
    "from PIL import Image\n",
    "\n",
    "import torch\n",
    "import torch.nn as nn\n",
    "import torch.nn.functional as F\n",
    "import torch.optim as optim\n",
    "\n",
    "import torchvision\n",
    "import torchvision.transforms as transforms"
   ]
  },
  {
   "cell_type": "code",
   "execution_count": 78,
   "metadata": {},
   "outputs": [],
   "source": [
    "transform =  transforms.Compose([\n",
    "  transforms.ToTensor(),\n",
    "  transforms.Normalize((0.5, 0.5, 0.5), (0.5, 0.5, 0.5))\n",
    "])"
   ]
  },
  {
   "cell_type": "code",
   "execution_count": 79,
   "metadata": {},
   "outputs": [
    {
     "name": "stdout",
     "output_type": "stream",
     "text": [
      "Files already downloaded and verified\n",
      "Files already downloaded and verified\n"
     ]
    }
   ],
   "source": [
    "train_data = torchvision.datasets.CIFAR10(root='./data', train=True, transform=transform, download=True)\n",
    "test_data = torchvision.datasets.CIFAR10(root='./data', train=False, transform=transform, download=True)\n",
    "\n",
    "train_loader = torch.utils.data.DataLoader(train_data, batch_size=32, shuffle=True, num_workers=2)\n",
    "test_loader = torch.utils.data.DataLoader(test_data, batch_size=32, shuffle=True, num_workers=2)"
   ]
  },
  {
   "cell_type": "code",
   "execution_count": 80,
   "metadata": {},
   "outputs": [],
   "source": [
    "image, label = train_data[0]"
   ]
  },
  {
   "cell_type": "code",
   "execution_count": 81,
   "metadata": {},
   "outputs": [
    {
     "data": {
      "text/plain": [
       "['airplane',\n",
       " 'automobile',\n",
       " 'bird',\n",
       " 'cat',\n",
       " 'deer',\n",
       " 'dog',\n",
       " 'frog',\n",
       " 'horse',\n",
       " 'ship',\n",
       " 'truck']"
      ]
     },
     "execution_count": 81,
     "metadata": {},
     "output_type": "execute_result"
    }
   ],
   "source": [
    "image.size()\n",
    "train_loader.dataset.classes"
   ]
  },
  {
   "cell_type": "code",
   "execution_count": 82,
   "metadata": {},
   "outputs": [],
   "source": [
    "class_names = ['airplane',\n",
    " 'automobile',\n",
    " 'bird',\n",
    " 'cat',\n",
    " 'deer',\n",
    " 'dog',\n",
    " 'frog',\n",
    " 'horse',\n",
    " 'ship',\n",
    " 'truck']"
   ]
  },
  {
   "cell_type": "code",
   "execution_count": 84,
   "metadata": {},
   "outputs": [],
   "source": [
    "class NeuralNet(nn.Module):\n",
    "  \n",
    "  def __init__(self):\n",
    "    super().__init__()\n",
    "\n",
    "    self.conv1 = nn.Conv2d(3, 12, 5) # 5*5 as kernel moving along image and producing 12 feature maps as a result\n",
    "    # (input size - kernel size) / stride (how much kernel moves by px) = 27 / 1 = 27 + 1 = 28 (shape)\n",
    "    # 12 channels with 28 * 28 -> (12, 28, 28)\n",
    "    self.pool = nn.MaxPool2d(2, 2) # takes 2*2 area and turns into 1px (4px to 1px) -> (12, 14, 14)\n",
    "    self.conv2 = nn.Conv2d(12, 24, 5) # ... (24, 10, 10) -> (24, 5, 5) -> flatten (24 * 5 * 5)\n",
    "    self.fc1 = nn.Linear(24 * 5 * 5, 120) # can use different numbers as long as shape compatible\n",
    "    self.fc2 = nn.Linear(120, 84)\n",
    "    self.fc3 = nn.Linear(84, 10) # but finish with 10 (classes)\n",
    "\n",
    "  def forward(self, x): # applies ^ as input\n",
    "    x = self.pool(F.relu(self.conv1(x))) # pool onto relu: 0 before 0 and x=y linear > 0\n",
    "    x = self.pool(F.relu(self.conv2(x)))\n",
    "    x = torch.flatten(x, 1)\n",
    "    x = F.relu(self.fc1(x))\n",
    "    x = F.relu(self.fc2(x))\n",
    "    x = self.fc3(x)\n",
    "    return x"
   ]
  },
  {
   "cell_type": "code",
   "execution_count": 85,
   "metadata": {},
   "outputs": [],
   "source": [
    "net = NeuralNet()\n",
    "loss_function = nn.CrossEntropyLoss()\n",
    "optimizer = optim.SGD(net.parameters(), lr=0.001, momentum=0.9)"
   ]
  },
  {
   "cell_type": "code",
   "execution_count": 86,
   "metadata": {},
   "outputs": [
    {
     "name": "stdout",
     "output_type": "stream",
     "text": [
      "Training epoch 1...\n",
      "Loss: 2.1821\n",
      "Training epoch 2...\n",
      "Loss: 1.7315\n",
      "Training epoch 3...\n",
      "Loss: 1.5146\n",
      "Training epoch 4...\n",
      "Loss: 1.3931\n",
      "Training epoch 5...\n",
      "Loss: 1.3032\n",
      "Training epoch 6...\n",
      "Loss: 1.2227\n",
      "Training epoch 7...\n",
      "Loss: 1.1524\n",
      "Training epoch 8...\n",
      "Loss: 1.0913\n",
      "Training epoch 9...\n",
      "Loss: 1.0413\n",
      "Training epoch 10...\n",
      "Loss: 0.9963\n",
      "Training epoch 11...\n",
      "Loss: 0.9588\n",
      "Training epoch 12...\n",
      "Loss: 0.9220\n",
      "Training epoch 13...\n",
      "Loss: 0.8882\n",
      "Training epoch 14...\n",
      "Loss: 0.8561\n",
      "Training epoch 15...\n",
      "Loss: 0.8234\n",
      "Training epoch 16...\n",
      "Loss: 0.7936\n",
      "Training epoch 17...\n",
      "Loss: 0.7646\n",
      "Training epoch 18...\n",
      "Loss: 0.7378\n",
      "Training epoch 19...\n",
      "Loss: 0.7112\n",
      "Training epoch 20...\n",
      "Loss: 0.6844\n",
      "Training epoch 21...\n",
      "Loss: 0.6643\n",
      "Training epoch 22...\n",
      "Loss: 0.6408\n",
      "Training epoch 23...\n",
      "Loss: 0.6187\n",
      "Training epoch 24...\n",
      "Loss: 0.5992\n",
      "Training epoch 25...\n",
      "Loss: 0.5740\n",
      "Training epoch 26...\n",
      "Loss: 0.5536\n",
      "Training epoch 27...\n",
      "Loss: 0.5348\n",
      "Training epoch 28...\n",
      "Loss: 0.5117\n",
      "Training epoch 29...\n",
      "Loss: 0.4948\n",
      "Training epoch 30...\n",
      "Loss: 0.4783\n"
     ]
    }
   ],
   "source": [
    "for epoch in range(30):\n",
    "  print(f'Training epoch {epoch + 1}...')\n",
    "\n",
    "  running_loss = 0.0\n",
    "\n",
    "  for i, data in enumerate(train_loader):\n",
    "    inputs, labels = data\n",
    "\n",
    "    optimizer.zero_grad()\n",
    "\n",
    "    outputs = net(inputs)\n",
    "\n",
    "    loss = loss_function(outputs, labels)\n",
    "    loss.backward()\n",
    "    optimizer.step()\n",
    "\n",
    "    running_loss += loss.item()\n",
    "\n",
    "  print(f'Loss: {running_loss / len(train_loader):.4f}')"
   ]
  },
  {
   "cell_type": "code",
   "execution_count": 87,
   "metadata": {},
   "outputs": [],
   "source": [
    "torch.save(net.state_dict(), 'trained_net.pth')"
   ]
  },
  {
   "cell_type": "markdown",
   "metadata": {},
   "source": [
    "# Load model"
   ]
  },
  {
   "cell_type": "code",
   "execution_count": 88,
   "metadata": {},
   "outputs": [
    {
     "name": "stderr",
     "output_type": "stream",
     "text": [
      "/var/folders/j8/rb8khncs0j73tq5y5x9g6d980000gn/T/ipykernel_2591/1690949604.py:2: FutureWarning: You are using `torch.load` with `weights_only=False` (the current default value), which uses the default pickle module implicitly. It is possible to construct malicious pickle data which will execute arbitrary code during unpickling (See https://github.com/pytorch/pytorch/blob/main/SECURITY.md#untrusted-models for more details). In a future release, the default value for `weights_only` will be flipped to `True`. This limits the functions that could be executed during unpickling. Arbitrary objects will no longer be allowed to be loaded via this mode unless they are explicitly allowlisted by the user via `torch.serialization.add_safe_globals`. We recommend you start setting `weights_only=True` for any use case where you don't have full control of the loaded file. Please open an issue on GitHub for any issues related to this experimental feature.\n",
      "  net.load_state_dict(torch.load('trained_net.pth'))\n"
     ]
    },
    {
     "data": {
      "text/plain": [
       "<All keys matched successfully>"
      ]
     },
     "execution_count": 88,
     "metadata": {},
     "output_type": "execute_result"
    }
   ],
   "source": [
    "net = NeuralNet()\n",
    "net.load_state_dict(torch.load('trained_net.pth'))"
   ]
  },
  {
   "cell_type": "code",
   "execution_count": 89,
   "metadata": {},
   "outputs": [
    {
     "name": "stdout",
     "output_type": "stream",
     "text": [
      "Accuracy: 68.11%\n"
     ]
    }
   ],
   "source": [
    "correct = 0\n",
    "total = 0\n",
    "\n",
    "net.eval()\n",
    "\n",
    "with torch.no_grad():\n",
    "  for data in test_loader:\n",
    "    images, labels = data\n",
    "    outputs = net(images)\n",
    "    _, predicted = torch.max(outputs, 1)\n",
    "    total += labels.size(0)\n",
    "    correct += (predicted == labels).sum().item()\n",
    "\n",
    "\n",
    "accuracy = 100 * correct / total\n",
    "\n",
    "print(f'Accuracy: {accuracy}%')"
   ]
  },
  {
   "cell_type": "markdown",
   "metadata": {},
   "source": [
    "## Test with image not from dataset"
   ]
  },
  {
   "cell_type": "code",
   "execution_count": 92,
   "metadata": {},
   "outputs": [
    {
     "name": "stdout",
     "output_type": "stream",
     "text": [
      "Prediction: deer\n",
      "Prediction: frog\n",
      "Prediction: airplane\n"
     ]
    }
   ],
   "source": [
    "new_transform = transforms.Compose([\n",
    "  transforms.Resize((32, 32)),\n",
    "  transforms.ToTensor(),\n",
    "  transforms.Normalize((0.5, 0.5, 0.5), (0.5, 0.5, 0.5))\n",
    "])\n",
    "\n",
    "def load_image(image_path):\n",
    "  image = Image.open(image_path)\n",
    "  image = new_transform(image)\n",
    "  image = image.unsqueeze(0)\n",
    "  return image\n",
    "\n",
    "image_paths = ['./assets/640px-White-tailed_deer.jpg', './assets/frog-2_ver_1.jpg', './assets/airplane.jpg']\n",
    "images = [load_image(img) for img in image_paths]\n",
    "\n",
    "net.eval()\n",
    "with torch.no_grad():\n",
    "  for image in images:\n",
    "    output = net(image)\n",
    "    _, predicted = torch.max(output, 1)\n",
    "    print(f'Prediction: {class_names[predicted.item()]}')"
   ]
  },
  {
   "cell_type": "code",
   "execution_count": null,
   "metadata": {},
   "outputs": [],
   "source": []
  }
 ],
 "metadata": {
  "kernelspec": {
   "display_name": "pytorch",
   "language": "python",
   "name": "python3"
  },
  "language_info": {
   "codemirror_mode": {
    "name": "ipython",
    "version": 3
   },
   "file_extension": ".py",
   "mimetype": "text/x-python",
   "name": "python",
   "nbconvert_exporter": "python",
   "pygments_lexer": "ipython3",
   "version": "3.8.19"
  }
 },
 "nbformat": 4,
 "nbformat_minor": 2
}
